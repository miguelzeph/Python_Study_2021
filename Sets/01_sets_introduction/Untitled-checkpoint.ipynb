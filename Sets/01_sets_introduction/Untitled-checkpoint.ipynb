{
 "cells": [
  {
   "cell_type": "markdown",
   "metadata": {},
   "source": [
    "# Sets \n",
    "\n",
    "Fonte: [RealPython](https://realpython.com/python-sets/)"
   ]
  },
  {
   "cell_type": "markdown",
   "metadata": {},
   "source": [
    "## Definition of Set\n",
    "\n",
    "- Sets are UNORDERED\n",
    "- Set elements are UNIQUE\n",
    "- A set can be modified, but the elements type no"
   ]
  },
  {
   "cell_type": "code",
   "execution_count": 1,
   "metadata": {
    "ExecuteTime": {
     "end_time": "2021-07-04T11:39:41.905799Z",
     "start_time": "2021-07-04T11:39:41.892770Z"
    }
   },
   "outputs": [
    {
     "data": {
      "text/plain": [
       "{'E', 'G', 'I', 'L', 'M', 'U'}"
      ]
     },
     "execution_count": 1,
     "metadata": {},
     "output_type": "execute_result"
    }
   ],
   "source": [
    "x = set('MIGUEL') # = { }\n",
    "x"
   ]
  },
  {
   "cell_type": "code",
   "execution_count": 2,
   "metadata": {
    "ExecuteTime": {
     "end_time": "2021-07-04T11:39:42.004551Z",
     "start_time": "2021-07-04T11:39:41.909114Z"
    }
   },
   "outputs": [
    {
     "data": {
      "text/plain": [
       "{'0', '1', '2'}"
      ]
     },
     "execution_count": 2,
     "metadata": {},
     "output_type": "execute_result"
    }
   ],
   "source": [
    "y = set('100122220')\n",
    "y"
   ]
  },
  {
   "cell_type": "code",
   "execution_count": 3,
   "metadata": {
    "ExecuteTime": {
     "end_time": "2021-07-04T11:39:42.105158Z",
     "start_time": "2021-07-04T11:39:42.008528Z"
    }
   },
   "outputs": [
    {
     "name": "stdout",
     "output_type": "stream",
     "text": [
      "{'baz', 'qux', 'bar', 'foo'}\n",
      "{'baz', 'qux', 'bar', 'foo'}\n",
      "{'baz', 'qux', 'bar', 'foo'}\n"
     ]
    }
   ],
   "source": [
    "z = set( ['foo','bar','baz','foo','qux'] )\n",
    "print(z)\n",
    "z = set( ('foo','bar','baz','foo','qux') )\n",
    "print(z)\n",
    "# WRONG WAY !!!!\n",
    "#z = set(  'foo','bar','baz','foo','qux'  ) \n",
    "# Correct way\n",
    "z =    {  'foo','bar','baz','foo','qux'  }\n",
    "print(z)"
   ]
  },
  {
   "cell_type": "code",
   "execution_count": 4,
   "metadata": {
    "ExecuteTime": {
     "end_time": "2021-07-04T11:39:42.203084Z",
     "start_time": "2021-07-04T11:39:42.108995Z"
    }
   },
   "outputs": [
    {
     "name": "stdout",
     "output_type": "stream",
     "text": [
      "{'foo'}\n",
      "{'o', 'f'}\n"
     ]
    }
   ],
   "source": [
    "# Look at this 2 difference set definitions:\n",
    "print( {'foo'} , set('foo')     , sep='\\n' )"
   ]
  },
  {
   "cell_type": "code",
   "execution_count": 5,
   "metadata": {
    "ExecuteTime": {
     "end_time": "2021-07-04T11:39:42.338388Z",
     "start_time": "2021-07-04T11:39:42.205693Z"
    }
   },
   "outputs": [
    {
     "name": "stdout",
     "output_type": "stream",
     "text": [
      "<class 'set'>\n",
      "<class 'dict'>\n"
     ]
    }
   ],
   "source": [
    "# Set can be empety...\n",
    "x = set()\n",
    "print( type(x) )\n",
    "\n",
    "# It's not a set, is a dict\n",
    "x = {}\n",
    "print( type(x) ) "
   ]
  },
  {
   "cell_type": "code",
   "execution_count": 6,
   "metadata": {
    "ExecuteTime": {
     "end_time": "2021-07-04T11:39:42.457812Z",
     "start_time": "2021-07-04T11:39:42.341085Z"
    }
   },
   "outputs": [
    {
     "name": "stdout",
     "output_type": "stream",
     "text": [
      "<class 'set'>\n",
      "<class 'set'>\n"
     ]
    }
   ],
   "source": [
    "s1 = {2, 4, 6, 8, 10}\n",
    "s2 = {'Smith', 'McArthur', 'Wilson', 'Johansson'}\n",
    "\n",
    "print( type(s1) )\n",
    "print( type(s2) )"
   ]
  },
  {
   "cell_type": "code",
   "execution_count": 7,
   "metadata": {
    "ExecuteTime": {
     "end_time": "2021-07-04T11:39:42.548096Z",
     "start_time": "2021-07-04T11:39:42.460578Z"
    },
    "scrolled": true
   },
   "outputs": [
    {
     "data": {
      "text/plain": [
       "{(1, 2, 3), 3.14159, 42, None, 'foo'}"
      ]
     },
     "execution_count": 7,
     "metadata": {},
     "output_type": "execute_result"
    }
   ],
   "source": [
    "# TUPLE ARE IMMUTABLE\n",
    "x = {42, 'foo', (1, 2, 3), 3.14159, None}\n",
    "x"
   ]
  },
  {
   "cell_type": "markdown",
   "metadata": {},
   "source": [
    "## Operators vs Methods"
   ]
  },
  {
   "cell_type": "code",
   "execution_count": 8,
   "metadata": {
    "ExecuteTime": {
     "end_time": "2021-07-04T11:39:42.646233Z",
     "start_time": "2021-07-04T11:39:42.553785Z"
    }
   },
   "outputs": [
    {
     "name": "stdout",
     "output_type": "stream",
     "text": [
      "{'baz', 'bar', 'foo'}\n",
      "{'quux', 'qux', 'baz'}\n"
     ]
    }
   ],
   "source": [
    "x1 = {'foo', 'bar', 'baz'}\n",
    "x2 = {'baz', 'qux', 'quux'}\n",
    "\n",
    "print( x1, x2, sep='\\n')"
   ]
  },
  {
   "cell_type": "markdown",
   "metadata": {},
   "source": [
    "### Union ->  | or union( ) "
   ]
  },
  {
   "cell_type": "code",
   "execution_count": 9,
   "metadata": {
    "ExecuteTime": {
     "end_time": "2021-07-04T11:39:42.746028Z",
     "start_time": "2021-07-04T11:39:42.649736Z"
    }
   },
   "outputs": [
    {
     "data": {
      "text/plain": [
       "{'bar', 'baz', 'foo', 'quux', 'qux'}"
      ]
     },
     "execution_count": 9,
     "metadata": {},
     "output_type": "execute_result"
    }
   ],
   "source": [
    "x1 | x2 # USING OPERATORS, BOTH NEED TO BET A SET"
   ]
  },
  {
   "cell_type": "code",
   "execution_count": 10,
   "metadata": {
    "ExecuteTime": {
     "end_time": "2021-07-04T11:39:42.845701Z",
     "start_time": "2021-07-04T11:39:42.749537Z"
    }
   },
   "outputs": [
    {
     "data": {
      "text/plain": [
       "{'bar', 'baz', 'foo', 'quux', 'qux'}"
      ]
     },
     "execution_count": 10,
     "metadata": {},
     "output_type": "execute_result"
    }
   ],
   "source": [
    "x1.union(x2)"
   ]
  },
  {
   "cell_type": "code",
   "execution_count": 11,
   "metadata": {
    "ExecuteTime": {
     "end_time": "2021-07-04T11:39:42.947801Z",
     "start_time": "2021-07-04T11:39:42.848193Z"
    }
   },
   "outputs": [
    {
     "name": "stdout",
     "output_type": "stream",
     "text": [
      "{1, 2, 3, 4, 5, 6, 7}\n",
      "{1, 2, 3, 4, 5, 6, 7}\n"
     ]
    }
   ],
   "source": [
    "a = {1, 2, 3, 4}\n",
    "b = {2, 3, 4, 5}\n",
    "c = {3, 4, 5, 6}\n",
    "d = {4, 5, 6, 7}\n",
    "\n",
    "print( a.union(b, c, d) )\n",
    "print( a | b | c | d    )"
   ]
  },
  {
   "cell_type": "markdown",
   "metadata": {},
   "source": [
    "### Intersection -> & and intersection ( )"
   ]
  },
  {
   "cell_type": "code",
   "execution_count": 12,
   "metadata": {
    "ExecuteTime": {
     "end_time": "2021-07-04T11:39:43.056726Z",
     "start_time": "2021-07-04T11:39:42.954009Z"
    },
    "scrolled": true
   },
   "outputs": [
    {
     "name": "stdout",
     "output_type": "stream",
     "text": [
      "{4}\n",
      "{4}\n"
     ]
    }
   ],
   "source": [
    "print( a.intersection(b, c, d) )\n",
    "print( a & b & c & d           )"
   ]
  },
  {
   "cell_type": "markdown",
   "metadata": {},
   "source": [
    "### Difference -> - or difference( )"
   ]
  },
  {
   "cell_type": "code",
   "execution_count": 13,
   "metadata": {
    "ExecuteTime": {
     "end_time": "2021-07-04T11:39:43.145308Z",
     "start_time": "2021-07-04T11:39:43.059349Z"
    },
    "scrolled": false
   },
   "outputs": [
    {
     "name": "stdout",
     "output_type": "stream",
     "text": [
      "{1}\n",
      "{1}\n",
      "{7}\n",
      "{7}\n"
     ]
    }
   ],
   "source": [
    "print( a.difference(b, c, d) )\n",
    "print( a - b - c - d         )\n",
    "\n",
    "print( d.difference(b, c, a) )\n",
    "print( d - b - c - a         )\n"
   ]
  },
  {
   "cell_type": "markdown",
   "metadata": {},
   "source": [
    "### Symmetric_difference -> ^ or symmetric_difference( ) "
   ]
  },
  {
   "cell_type": "code",
   "execution_count": 14,
   "metadata": {
    "ExecuteTime": {
     "end_time": "2021-07-04T11:39:43.244125Z",
     "start_time": "2021-07-04T11:39:43.149055Z"
    }
   },
   "outputs": [
    {
     "name": "stdout",
     "output_type": "stream",
     "text": [
      "{10, 100, 5} só a tem 5, só o b tem 10...\n",
      "look at that difference\n",
      "{5}\n"
     ]
    }
   ],
   "source": [
    "a = {1, 2, 3, 4, 5}\n",
    "b = {10, 2, 3, 4, 50}\n",
    "c = {1, 50, 100}\n",
    "\n",
    "print( a ^ b ^ c, \"só a tem 5, só o b tem 10...\")\n",
    "print('look at that difference')\n",
    "print( a - b - c )\n"
   ]
  },
  {
   "cell_type": "markdown",
   "metadata": {},
   "source": [
    "### Is DisJoint\n",
    "\n",
    "return true if x1 and x2 have no elements in common\n",
    "\n",
    "\n",
    "return false if x1 and x2 have elements in common"
   ]
  },
  {
   "cell_type": "code",
   "execution_count": 15,
   "metadata": {
    "ExecuteTime": {
     "end_time": "2021-07-04T11:39:43.343365Z",
     "start_time": "2021-07-04T11:39:43.247599Z"
    }
   },
   "outputs": [
    {
     "name": "stdout",
     "output_type": "stream",
     "text": [
      "False\n",
      "{'quux', 'qux'}\n",
      "True\n"
     ]
    }
   ],
   "source": [
    "x1 = {'foo', 'bar', 'baz'}\n",
    "x2 = {'baz', 'qux', 'quux'}\n",
    "\n",
    "print( x1.isdisjoint(x2) )\n",
    "\n",
    "print( x2 - {'baz'}      )\n",
    "\n",
    "print( x1.isdisjoint(x2 - {'baz'}) )\n"
   ]
  },
  {
   "cell_type": "markdown",
   "metadata": {},
   "source": [
    "### Subset ->   <=  or issubset( )"
   ]
  },
  {
   "cell_type": "code",
   "execution_count": 16,
   "metadata": {
    "ExecuteTime": {
     "end_time": "2021-07-04T11:39:43.443034Z",
     "start_time": "2021-07-04T11:39:43.346272Z"
    }
   },
   "outputs": [
    {
     "name": "stdout",
     "output_type": "stream",
     "text": [
      "True\n",
      "False\n"
     ]
    }
   ],
   "source": [
    "x = {        1,2,3,4,5          }\n",
    "y = {0,10,   1,2,3,4,5   ,10,20,100}\n",
    "\n",
    "# X é um sub conjunto de y (x contido em y)\n",
    "print( x.issubset(y) )\n",
    "# Y não é sub Conj de x (y n contido em x)\n",
    "print( y.issubset(x) )"
   ]
  },
  {
   "cell_type": "code",
   "execution_count": 17,
   "metadata": {
    "ExecuteTime": {
     "end_time": "2021-07-04T11:39:43.609046Z",
     "start_time": "2021-07-04T11:39:43.445327Z"
    }
   },
   "outputs": [
    {
     "name": "stdout",
     "output_type": "stream",
     "text": [
      "False\n",
      "False\n"
     ]
    }
   ],
   "source": [
    "x = {        1,2,  3 ,4,5          }\n",
    "y = {0,10,   1,2,None,4,5   ,10,20,100}\n",
    "\n",
    "# X não é um sub Conj de y (x n contido em y)\n",
    "print( x.issubset(y) )\n",
    "# Y não é um sub Conj de x (y n contido em x)\n",
    "print( y.issubset(x) )"
   ]
  },
  {
   "cell_type": "code",
   "execution_count": null,
   "metadata": {},
   "outputs": [],
   "source": []
  },
  {
   "cell_type": "markdown",
   "metadata": {},
   "source": [
    "## MODIFYING A SET"
   ]
  },
  {
   "cell_type": "markdown",
   "metadata": {},
   "source": [
    "### Update ->  |=  or update( )"
   ]
  },
  {
   "cell_type": "code",
   "execution_count": 18,
   "metadata": {
    "ExecuteTime": {
     "end_time": "2021-07-04T11:39:43.775201Z",
     "start_time": "2021-07-04T11:39:43.611655Z"
    }
   },
   "outputs": [
    {
     "name": "stdout",
     "output_type": "stream",
     "text": [
      "{'baz', 'bar', 'foo'}\n",
      "{'baz', 'foo', 'qux', 'bar'}\n",
      "{'baz', 'foo', 'qux', 'corge', 'bar', 'garply'}\n"
     ]
    }
   ],
   "source": [
    "x1 = {'foo', 'bar', 'baz'}\n",
    "x2 = {'foo', 'baz', 'qux'}\n",
    "print( x1 )\n",
    "\n",
    "x1 |= x2 \n",
    "print( x1 )\n",
    "\n",
    "x1.update(['corge', 'garply'])\n",
    "print( x1 )\n"
   ]
  },
  {
   "cell_type": "markdown",
   "metadata": {},
   "source": [
    "### Remove"
   ]
  },
  {
   "cell_type": "code",
   "execution_count": 19,
   "metadata": {
    "ExecuteTime": {
     "end_time": "2021-07-04T11:39:43.885706Z",
     "start_time": "2021-07-04T11:39:43.777604Z"
    }
   },
   "outputs": [
    {
     "name": "stdout",
     "output_type": "stream",
     "text": [
      "{'l', 'e', 'u', 'g', 'i'}\n"
     ]
    }
   ],
   "source": [
    "x1 = set('Miguel')\n",
    "\n",
    "x1.remove('M')\n",
    "\n",
    "print(x1)"
   ]
  },
  {
   "cell_type": "markdown",
   "metadata": {},
   "source": [
    "### Discard"
   ]
  },
  {
   "cell_type": "code",
   "execution_count": 20,
   "metadata": {
    "ExecuteTime": {
     "end_time": "2021-07-04T11:39:44.001328Z",
     "start_time": "2021-07-04T11:39:43.888700Z"
    }
   },
   "outputs": [
    {
     "name": "stdout",
     "output_type": "stream",
     "text": [
      "{'l', 'e', 'M', 'u', 'g', 'i'}\n"
     ]
    }
   ],
   "source": [
    "x1 = set('Miguel')\n",
    "x2 = set('h')\n",
    "\n",
    "x1.discard(x2)\n",
    "\n",
    "print(x1)\n",
    "\n",
    "# RESUMIDAMENTE\n",
    "# Discard - não dá erro quando não tem o element\n",
    "# Remove - dá erro quando não tem o element"
   ]
  },
  {
   "cell_type": "markdown",
   "metadata": {},
   "source": [
    "### Pop"
   ]
  },
  {
   "cell_type": "code",
   "execution_count": 21,
   "metadata": {
    "ExecuteTime": {
     "end_time": "2021-07-04T11:39:44.109724Z",
     "start_time": "2021-07-04T11:39:44.004032Z"
    }
   },
   "outputs": [
    {
     "name": "stdout",
     "output_type": "stream",
     "text": [
      "{4}\n"
     ]
    }
   ],
   "source": [
    "# remove a random element\n",
    "x = {1,2,3,4}\n",
    "\n",
    "x.pop()\n",
    "x.pop()\n",
    "x.pop()\n",
    "\n",
    "print(x)"
   ]
  },
  {
   "cell_type": "markdown",
   "metadata": {},
   "source": [
    "### Clear"
   ]
  },
  {
   "cell_type": "code",
   "execution_count": 22,
   "metadata": {
    "ExecuteTime": {
     "end_time": "2021-07-04T11:40:16.043985Z",
     "start_time": "2021-07-04T11:40:16.038872Z"
    }
   },
   "outputs": [
    {
     "name": "stdout",
     "output_type": "stream",
     "text": [
      "set()\n"
     ]
    }
   ],
   "source": [
    "# Remove all elements\n",
    "x = {1,2,3,4}\n",
    "\n",
    "x.clear()\n",
    "\n",
    "print(x)"
   ]
  }
 ],
 "metadata": {
  "kernelspec": {
   "display_name": "Python 3",
   "language": "python",
   "name": "python3"
  },
  "language_info": {
   "codemirror_mode": {
    "name": "ipython",
    "version": 3
   },
   "file_extension": ".py",
   "mimetype": "text/x-python",
   "name": "python",
   "nbconvert_exporter": "python",
   "pygments_lexer": "ipython3",
   "version": "3.6.9"
  }
 },
 "nbformat": 4,
 "nbformat_minor": 2
}
